{
  "cells": [
    {
      "attachments": {},
      "cell_type": "markdown",
      "metadata": {
        "id": "0gYOHY9DFk4B"
      },
      "source": [
        "# Introduction to Python\n",
        "\n",
        "- Variable\n",
        "- Data Type Primary\n",
        "  - Number\n",
        "    - Integer\n",
        "    - Float\n",
        "  - String\n",
        "  - Boolean\n",
        "- Data Type Array (Collections of Data)\n",
        "  - List\n",
        "  - Tuple\n",
        "  - Dictionary\n",
        "  - Set\n",
        "- Operation\n"
      ]
    },
    {
      "attachments": {},
      "cell_type": "markdown",
      "metadata": {
        "id": "hOxhspEjsMB3"
      },
      "source": [
        "---\n",
        "\n",
        "Nama :  Basyira Sabita  \n",
        "Batch :  HCK-012\n",
        "\n",
        "---"
      ]
    },
    {
      "cell_type": "code",
      "execution_count": 2,
      "metadata": {
        "colab": {
          "base_uri": "https://localhost:8080/"
        },
        "id": "GDFs8DJ5r3J7",
        "outputId": "68a6a7c8-01a2-48ad-fc45-2397013030a9"
      },
      "outputs": [
        {
          "name": "stdout",
          "output_type": "stream",
          "text": [
            "HELLO\n",
            "WORLD\n"
          ]
        }
      ],
      "source": [
        "# Run this block code\n",
        "print(\"HELLO\")\n",
        "\n",
        "# print(\"WORLD\")\n",
        "print(\"WORLD\")"
      ]
    },
    {
      "attachments": {},
      "cell_type": "markdown",
      "metadata": {
        "id": "dLKmJt2KJNDu"
      },
      "source": [
        "# Variable\n",
        "\n",
        "Rules dari membuat nama variable:\n",
        "- Dimulai dengan huruf\n",
        "- Perhatikan plural / singular jika dalam bahasa inggris\n",
        "- bisa camelCase, PascalCase, snake_case tidak kebab-case.\n",
        "\n",
        "\n",
        "Buatlah 3 variable yaitu:\n",
        "- variable name dan isi dengan namamu\n",
        "- variable favoriteNumber isi dengan angka kesukaanmu\n",
        "- variable isHungry dan isi True jika kamu lapar dann False jika kamu tidak lapar"
      ]
    },
    {
      "cell_type": "code",
      "execution_count": 22,
      "metadata": {
        "id": "vH5lUI0kqAxa"
      },
      "outputs": [],
      "source": [
        "# Code dibawah ini\n",
        "name = \"Bita\"\n",
        "favoriteNumber = 9\n",
        "isHungry = False"
      ]
    },
    {
      "attachments": {},
      "cell_type": "markdown",
      "metadata": {
        "id": "LP6QVd2HqZiR"
      },
      "source": [
        "# Data Type Primary"
      ]
    },
    {
      "attachments": {},
      "cell_type": "markdown",
      "metadata": {
        "id": "ria_IrJ1qRpl"
      },
      "source": [
        "## Data Type Number\n",
        "\n",
        "Terdapat Integer dan Float"
      ]
    },
    {
      "attachments": {},
      "cell_type": "markdown",
      "metadata": {},
      "source": [
        "### Latihan Integer"
      ]
    },
    {
      "cell_type": "code",
      "execution_count": 25,
      "metadata": {
        "id": "Yc19bHtfqQ-9"
      },
      "outputs": [
        {
          "name": "stdout",
          "output_type": "stream",
          "text": [
            "9\n",
            "<class 'int'>\n",
            "False\n",
            "50\n",
            "60\n",
            "======\n",
            "54.0\n"
          ]
        }
      ],
      "source": [
        "# Latihan kode disini (Ikuti dalam kelas)\n",
        "print(favoriteNumber)\n",
        "print(type(favoriteNumber))\n",
        "print(favoriteNumber == 100) # == equal, > >= < <=, != not equal)\n",
        "\n",
        "favoriteNumber = 50 # Reassignment\n",
        "print(favoriteNumber)\n",
        "\n",
        "favoriteNumber += 5\n",
        "favoriteNumber = favoriteNumber + 5\n",
        "print(favoriteNumber)\n",
        "\n",
        "print(\"======\")\n",
        "\n",
        "# favoriteNumber dikurangi 10%\n",
        "favoriteNumber = favoriteNumber - (favoriteNumber/10)\n",
        "print(favoriteNumber)\n"
      ]
    },
    {
      "attachments": {},
      "cell_type": "markdown",
      "metadata": {},
      "source": [
        "### Latihan Float"
      ]
    },
    {
      "cell_type": "code",
      "execution_count": 24,
      "metadata": {},
      "outputs": [
        {
          "name": "stdout",
          "output_type": "stream",
          "text": [
            "9\n",
            "<class 'int'>\n",
            "9\n",
            "1\n",
            "1.5\n",
            "2.0\n",
            "3.1\n"
          ]
        }
      ],
      "source": [
        "print(favoriteNumber)\n",
        "print(type(favoriteNumber))\n",
        "print(int(favoriteNumber))\n",
        "\n",
        "tigaSetengah = 1.5\n",
        "print(int(tigaSetengah))\n",
        "print(float(tigaSetengah))\n",
        "\n",
        "tigaSetengah += 0.5\n",
        "print(tigaSetengah)\n",
        "\n",
        "decimalNumber = 3.14\n",
        "print(round(decimalNumber,1))"
      ]
    },
    {
      "attachments": {},
      "cell_type": "markdown",
      "metadata": {
        "id": "kN7khB5IqC7K"
      },
      "source": [
        "## Data Type String\n",
        "\n",
        "Peruntukannya untuk text dapat menggunakan kutip 1 atau 2 ' \""
      ]
    },
    {
      "cell_type": "code",
      "execution_count": 47,
      "metadata": {
        "id": "JErM3SdVFh9H"
      },
      "outputs": [
        {
          "name": "stdout",
          "output_type": "stream",
          "text": [
            "Bita\n",
            "<class 'str'>\n",
            "4\n",
            "Bita4Basyira  \n",
            "14\n",
            "B\n",
            "i\n"
          ]
        }
      ],
      "source": [
        "# Latihan kode disini (Ikuti dalam kelas)\n",
        "\n",
        "name = \"Bita\"\n",
        "\n",
        "print(name)\n",
        "print(type(name))\n",
        "print(len(name))\n",
        "\n",
        "# Coba tambahkan angka ke string\n",
        "name += str(4)\n",
        "name += \"Basyira  \"\n",
        "print(name)\n",
        "\n",
        "# len dengan ada spasi\n",
        "print(len(name))\n",
        "\n",
        "# Coba akses character pertama dan kedua\n",
        "print(name[0])\n",
        "print(name[1])"
      ]
    },
    {
      "cell_type": "code",
      "execution_count": 50,
      "metadata": {},
      "outputs": [
        {
          "name": "stdout",
          "output_type": "stream",
          "text": [
            "8\n",
            "8\n"
          ]
        }
      ],
      "source": [
        "# Ada 2 nama disimpan pada variable boy dan girl hitung berapa character kedua variable\n",
        "\n",
        "boy = \"adam\" # 4\n",
        "girl = \"hawa\" # 4\n",
        "\n",
        "# Cara 1\n",
        "print(len(boy) + len(girl))\n",
        "\n",
        "# Cara 2\n",
        "gabungan = boy + girl\n",
        "print(len(gabungan))\n",
        "\n",
        "# print(len(boy) + 5)"
      ]
    },
    {
      "attachments": {},
      "cell_type": "markdown",
      "metadata": {},
      "source": [
        "String itu case sensitive yaa"
      ]
    },
    {
      "cell_type": "code",
      "execution_count": 54,
      "metadata": {},
      "outputs": [
        {
          "name": "stdout",
          "output_type": "stream",
          "text": [
            "False\n",
            "1\n",
            "1\n",
            "False\n",
            "=======\n",
            "Bita4Basyira  \n",
            "BITA4BASYIRA  \n",
            "bita4basyira  \n",
            "Bita basyira\n"
          ]
        }
      ],
      "source": [
        "print(1 == \"1\")\n",
        "print(1)\n",
        "print(\"1\")\n",
        "\n",
        "print(\"bita\" == \"BITA\")\n",
        "\n",
        "print('=======')\n",
        "print(name)\n",
        "print(name.upper())\n",
        "print(name.lower())\n",
        "\n",
        "name = \"bita basyira\"\n",
        "print(name.capitalize())"
      ]
    },
    {
      "attachments": {},
      "cell_type": "markdown",
      "metadata": {
        "id": "Wi4SejTIqb7o"
      },
      "source": [
        "## Data Type Boolean\n",
        "\n",
        "Yaitu True dan False"
      ]
    },
    {
      "cell_type": "code",
      "execution_count": 56,
      "metadata": {
        "id": "reRugMYIqhQ0"
      },
      "outputs": [
        {
          "name": "stdout",
          "output_type": "stream",
          "text": [
            "False\n",
            "<class 'bool'>\n",
            "False holla\n"
          ]
        }
      ],
      "source": [
        "# Latihan kode disini (Ikuti dalam kelas)\n",
        "print(isHungry)\n",
        "# print(1 == True) # True karena ngikutin binary (1 -> True)\n",
        "# print(0 == False) # True karena ngikutin binary (0 -> False)\n",
        "print(type(isHungry))\n",
        "print(str(isHungry) + ' holla')"
      ]
    },
    {
      "cell_type": "code",
      "execution_count": 64,
      "metadata": {},
      "outputs": [
        {
          "name": "stdout",
          "output_type": "stream",
          "text": [
            "bita basyira False 54.0\n",
            "Namaku bita basyira, angka favoritku adalah 54. Status lapar: False.\n",
            "Namaku bita basyira, angka favoritku adalah 54.0. Status lapar: False.\n"
          ]
        }
      ],
      "source": [
        "print(name, isHungry, favoriteNumber)\n",
        "print(f\"Namaku {name}, angka favoritku adalah {int(favoriteNumber)}. Status lapar: {isHungry}.\")\n",
        "print(\"Namaku \" + name + \", angka favoritku adalah \" + str(favoriteNumber) + \". Status lapar: \" + str(isHungry) + \".\")"
      ]
    },
    {
      "attachments": {},
      "cell_type": "markdown",
      "metadata": {
        "id": "jnEuh5gQqkzn"
      },
      "source": [
        "# Data Type Array / Data Type For Collections of Data\n",
        "\n",
        "Kalo w3school menyebutkannya sebagai [Python Collections (Arrays)](https://www.w3schools.com/python/python_lists.asp#:~:text=Python%20Collections%20(Arrays)).\n",
        "\n",
        "----- note disini latihan menggunakaan markdown text yaa..\n",
        "\n"
      ]
    },
    {
      "attachments": {},
      "cell_type": "markdown",
      "metadata": {},
      "source": [
        "## List [ ]"
      ]
    },
    {
      "cell_type": "code",
      "execution_count": 88,
      "metadata": {},
      "outputs": [
        {
          "name": "stdout",
          "output_type": "stream",
          "text": [
            "['Bita', 'Nicku', 'Ogi', 'Riki', 'Naufal', 'Riki', 'Riki']\n",
            "<class 'list'>\n",
            "Bita\n",
            "7\n",
            "['Bita', 'Nicku', 'Ogi', 'Naufal', 'Riki', 'Riki', 'Ayu', 'Bambang', 'Samuel']\n",
            "Samuel\n",
            "Samuel\n",
            "['Sapta', 'Nicku', 'Ogi', 'Naufal', 'Riki', 'Riki', 'Ayu', 'Bambang', 'Samuel']\n",
            "['Bita', 'Nicku', 'Ogi', 'Naufal', 'Riki', 'Riki', 'Ayu', 'Bambang', 'Samuel']\n"
          ]
        }
      ],
      "source": [
        "names = [\"Bita\", \"Nicku\", \"Ogi\", \"Riki\", \"Naufal\", \"Riki\", \"Riki\"]\n",
        "print(names)\n",
        "print(type(names))\n",
        "\n",
        "# indexing list ke-0\n",
        "print(names[0])\n",
        "\n",
        "# Jumlah value/data/element dalam list\n",
        "print(len(names))\n",
        "\n",
        "# Hapus Riki dari names\n",
        "names.remove(\"Riki\")\n",
        "names.append(\"Ayu\")\n",
        "names.append('Bambang')\n",
        "names.append(\"Samuel\")\n",
        "print(names)\n",
        "\n",
        "# Mengakses index terakhir\n",
        "# Cara 1\n",
        "n = len(names) - 1\n",
        "print(names[n])\n",
        "\n",
        "# Cara 2\n",
        "print(names[-1])\n",
        "\n",
        "namesKedua = names.copy()\n",
        "namesKedua[0] = \"Sapta\"\n",
        "print(namesKedua)\n",
        "print(names)"
      ]
    },
    {
      "cell_type": "code",
      "execution_count": 85,
      "metadata": {},
      "outputs": [
        {
          "name": "stdout",
          "output_type": "stream",
          "text": [
            "[2000, 1000, 5000, 100, 200]\n",
            "[100, 200, 1000, 2000, 5000]\n",
            "[5000, 2000, 1000, 200, 100]\n"
          ]
        }
      ],
      "source": [
        "numbers = [2000, 1000, 5000, 100, 200]\n",
        "\n",
        "# Past references\n",
        "kumpulanAngka = numbers.copy()\n",
        "print(numbers)\n",
        "\n",
        "# By default ascending\n",
        "kumpulanAngka.sort()\n",
        "print(kumpulanAngka)\n",
        "\n",
        "# Descending\n",
        "kumpulanAngka.sort(reverse=True)\n",
        "print(kumpulanAngka)"
      ]
    },
    {
      "cell_type": "code",
      "execution_count": 86,
      "metadata": {},
      "outputs": [
        {
          "name": "stdout",
          "output_type": "stream",
          "text": [
            "[2000, 1000, 5000, 100, 200]\n"
          ]
        }
      ],
      "source": [
        "print(numbers)\n"
      ]
    },
    {
      "attachments": {},
      "cell_type": "markdown",
      "metadata": {},
      "source": [
        "### Pass References"
      ]
    },
    {
      "cell_type": "code",
      "execution_count": 89,
      "metadata": {},
      "outputs": [
        {
          "name": "stdout",
          "output_type": "stream",
          "text": [
            "['Sushi', 'Coklat', 'Kopi', 'Yakult']\n",
            "['Sushi', 'Coklat', 'Kopi', 'Yakult']\n"
          ]
        }
      ],
      "source": [
        "listMakanan = [\"Sushi\", \"Coklat\", \"Kopi\"]\n",
        "listMakananFavorite = listMakanan\n",
        "listMakananFavorite.append(\"Yakult\")\n",
        "print(listMakananFavorite)\n",
        "print(listMakanan)"
      ]
    },
    {
      "attachments": {},
      "cell_type": "markdown",
      "metadata": {},
      "source": [
        "### Cara Handle Pass References"
      ]
    },
    {
      "cell_type": "code",
      "execution_count": 90,
      "metadata": {},
      "outputs": [
        {
          "name": "stdout",
          "output_type": "stream",
          "text": [
            "['Sushi', 'Coklat', 'Kopi', 'Yakult']\n",
            "['Sushi', 'Coklat', 'Kopi', 'Yakult', 'Susu']\n"
          ]
        }
      ],
      "source": [
        "listMakananFavorite = listMakanan.copy()\n",
        "listMakananFavorite.append(\"Susu\")\n",
        "print(listMakanan)\n",
        "print(listMakananFavorite)"
      ]
    },
    {
      "attachments": {},
      "cell_type": "markdown",
      "metadata": {},
      "source": [
        "### Slicing"
      ]
    },
    {
      "cell_type": "code",
      "execution_count": 93,
      "metadata": {},
      "outputs": [
        {
          "name": "stdout",
          "output_type": "stream",
          "text": [
            "['Coklat', 'Kopi']\n",
            "['Sushi', 'Coklat', 'Kopi']\n"
          ]
        }
      ],
      "source": [
        "print(listMakananFavorite[1:3]) # [mulai dari: sampai 3 (sebenarnya mengakses sebelum index 3)]\n",
        "print(listMakananFavorite[:3])"
      ]
    },
    {
      "attachments": {},
      "cell_type": "markdown",
      "metadata": {},
      "source": [
        "## Tuple ( )\n",
        "\n",
        "Bedanya sama list adalah tuple gabisa dimodifikasi elementnya"
      ]
    },
    {
      "cell_type": "code",
      "execution_count": 112,
      "metadata": {},
      "outputs": [
        {
          "name": "stdout",
          "output_type": "stream",
          "text": [
            "('Ayu', 'Yuda', 'Riki', 'Sapta', 'Ayu')\n",
            "<class 'tuple'>\n",
            "5\n",
            "Ayu\n"
          ]
        }
      ],
      "source": [
        "listInstructor = ('Ayu', 'Yuda', 'Riki', 'Sapta', 'Ayu')\n",
        "print(listInstructor)\n",
        "print(type(listInstructor))\n",
        "print(len(listInstructor))\n",
        "print(listInstructor[0])\n",
        "\n",
        "# Tidak bisa dimodifikasi\n",
        "# listInstructor[0] = \"Hana\"\n",
        "# listInstructor.append(\"Hana\")"
      ]
    },
    {
      "attachments": {},
      "cell_type": "markdown",
      "metadata": {},
      "source": [
        "# Set { }\n",
        "\n",
        "Tidak menerima duplikat"
      ]
    },
    {
      "cell_type": "code",
      "execution_count": 113,
      "metadata": {},
      "outputs": [
        {
          "name": "stdout",
          "output_type": "stream",
          "text": [
            "{'Ayu', 'Riki', 'Sapta', 'Yuda'}\n",
            "4\n"
          ]
        }
      ],
      "source": [
        "listInstructor = set(listInstructor)\n",
        "print(listInstructor)\n",
        "print(len(listInstructor))"
      ]
    },
    {
      "attachments": {},
      "cell_type": "markdown",
      "metadata": {},
      "source": [
        "# Dictionary { keyname : value }"
      ]
    },
    {
      "cell_type": "code",
      "execution_count": 111,
      "metadata": {},
      "outputs": [
        {
          "name": "stdout",
          "output_type": "stream",
          "text": [
            "{'name': 'Luwy', 'age': 4, 'weight': 5.5, 'height': 50}\n",
            "4\n",
            "Luwy\n",
            "{'name': 'Luwy', 'age': 4, 'weight': 5.5, 'height': 50, 'isVaksin': True}\n",
            "{'name': 'Prince', 'age': 4, 'weight': 5.5, 'height': 50, 'isVaksin': True}\n"
          ]
        }
      ],
      "source": [
        "persianCat = {\n",
        "    'name': 'Luwy',\n",
        "    'age': 4,\n",
        "    'weight': 5.5,\n",
        "    'height': 50\n",
        "}\n",
        "\n",
        "print(persianCat)\n",
        "print(len(persianCat))\n",
        "\n",
        "# Akses value dengan key bukan dengan index\n",
        "print(persianCat['name'])\n",
        "\n",
        "# Menambahkan keyname dan value baru\n",
        "persianCat['isVaksin'] = True\n",
        "print(persianCat)\n",
        "\n",
        "# Mengubah value (jika keyname tsb sudah ada)\n",
        "persianCat['name'] = 'Prince'\n",
        "print(persianCat)"
      ]
    },
    {
      "attachments": {},
      "cell_type": "markdown",
      "metadata": {},
      "source": [
        "# Exercise"
      ]
    },
    {
      "cell_type": "code",
      "execution_count": 124,
      "metadata": {},
      "outputs": [
        {
          "name": "stdout",
          "output_type": "stream",
          "text": [
            "5\n",
            "Revo Ayu\n",
            "[100, 100, 90, 90, 100, 50]\n",
            "100\n",
            "50\n"
          ]
        }
      ],
      "source": [
        "listAlphabet = [\n",
        "    [0, 'Ayu', 'Bita', 'Cinta'],\n",
        "    [1, 'Dian','Ersa','Fanta'],\n",
        "    [2, 'G', 'H', 'I']\n",
        "]\n",
        "\n",
        "print(len(listAlphabet[1][-1]))\n",
        "\n",
        "listHck12 = {\n",
        "    \"students\" : ['Bita', 'Revo', 'Nicku', 'Samuel', 'Panji'],\n",
        "    \"buddy\" : ['Ayu', \"Ayu\", 'Ayu', 'Sapta', 'Sapta'],\n",
        "    'scores': [100, 100, 90, 90, 100, 50]\n",
        "}\n",
        "\n",
        "print(listHck12['students'][1],listHck12['buddy'][1])\n",
        "print(listHck12['scores'])\n",
        "print(max(listHck12['scores']))\n",
        "print(min(listHck12['scores']))"
      ]
    }
  ],
  "metadata": {
    "colab": {
      "provenance": []
    },
    "kernelspec": {
      "display_name": "Python 3",
      "name": "python3"
    },
    "language_info": {
      "codemirror_mode": {
        "name": "ipython",
        "version": 3
      },
      "file_extension": ".py",
      "mimetype": "text/x-python",
      "name": "python",
      "nbconvert_exporter": "python",
      "pygments_lexer": "ipython3",
      "version": "3.11.5"
    }
  },
  "nbformat": 4,
  "nbformat_minor": 0
}
