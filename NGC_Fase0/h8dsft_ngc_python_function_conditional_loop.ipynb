{
 "cells": [
  {
   "attachments": {},
   "cell_type": "markdown",
   "metadata": {},
   "source": [
    "# NGC2 - Conditional, Loop, and Function\n",
    "Nama: Basyira Sabita  \n",
    "Batch: HCK-12"
   ]
  },
  {
   "attachments": {},
   "cell_type": "markdown",
   "metadata": {},
   "source": [
    "## Task #1 - Number of Word\n",
    "---\n",
    "\n",
    "Create a function that count the number of word in a sentence.\n",
    "\n",
    "**Instruction:**\n",
    "1. Create function called `number_of_word`.\n",
    "2. This function takes 1 input, `sentence`.\n",
    "3. Inside this function, you can utilize `.split()` method to split the sentence into list of word(s).\n",
    "4. Also, `len()` function to count the element inside a list.\n",
    "5. Return the number of word from the sentence.\n",
    "\n",
    "**Example:**  \n",
    "a. Input: number_of_word(sentence = ’Hello World!’)  \n",
    "b. Output: 2  \\\n",
    "\\\n",
    "a. Input: number_of_word(sentence = ’Once Upon a Time in a faraway land’)  \n",
    "b. Output: 8\n"
   ]
  },
  {
   "cell_type": "code",
   "execution_count": 6,
   "metadata": {},
   "outputs": [
    {
     "name": "stdout",
     "output_type": "stream",
     "text": [
      "Number of word(s) in \"Halo, nama saya adalah Basyira Sabita.\" is 6.\n"
     ]
    }
   ],
   "source": [
    "def number_of_word(sentence):\n",
    "    return len(sentence.split()) # Length of sentence split by \"\"\n",
    "\n",
    "sentence = input(\"Please input your sentence: \")\n",
    "\n",
    "numOfWord = number_of_word(sentence)\n",
    "print(f'Number of word(s) in \"{sentence}\" is {numOfWord}.')"
   ]
  },
  {
   "attachments": {},
   "cell_type": "markdown",
   "metadata": {},
   "source": [
    "## Task#2 - Find Multiple\n",
    "---\n",
    "Create a function that will get list of number(s) from a certain range that multiples of given number.\n",
    "\n",
    "**Instruction:**\n",
    "1. Create function called `find_multiples`.\n",
    "2. This function takes 3 input: `start_range`, `end_range`, and `multiple`.\n",
    "3. From every number within the given range, check if that number is the mutliples of `multiple`.\n",
    "4. Return list of the possible multiple number(s).\n",
    "\n",
    "**Example:**\\\n",
    "a. Input: find_multiple(start_range= 1, end_range= 20, multiple= 5)  \n",
    "b. Output: [5, 10, 15, 20]  \n",
    "\\\n",
    "a. Input: find_multiple(start_range= 1, end_range= 50, multiple= 10)  \n",
    "b. Output: [10, 20, 30, 40, 50]\n"
   ]
  },
  {
   "cell_type": "code",
   "execution_count": 18,
   "metadata": {},
   "outputs": [
    {
     "name": "stdout",
     "output_type": "stream",
     "text": [
      "start_range = 5, end_range = 78, multiple = 6\n",
      "Multiples found: [6, 12, 18, 24, 30, 36, 42, 48, 54, 60, 66, 72, 78]\n"
     ]
    }
   ],
   "source": [
    "def find_multiple(start_range, end_range, multiple):\n",
    "    lstMultiples = []\n",
    "\n",
    "    # looping through range\n",
    "    for i in range(start_range, end_range+1):\n",
    "        # Check whether i can be divided by multiple with 0 remainder\n",
    "        if i % multiple == 0:\n",
    "            lstMultiples.append(i)\n",
    "    \n",
    "    return lstMultiples\n",
    "\n",
    "start_range = int(input(\"Input start range: \"))\n",
    "end_range = int(input(\"Input end range: \"))\n",
    "multiple = int(input(\"Input multiple: \"))\n",
    "\n",
    "lstMultiples = find_multiple(start_range, end_range, multiple)\n",
    "print(f\"start_range = {start_range}, end_range = {end_range}, multiple = {multiple}\")\n",
    "print(f\"Multiples found: {lstMultiples}\")"
   ]
  },
  {
   "attachments": {},
   "cell_type": "markdown",
   "metadata": {},
   "source": [
    "## Task#3 - Grade Converter\n",
    "---\n",
    "Create a function that will convert student’s grade to GPA.\n",
    "\n",
    "**Instruction:**\n",
    "1. Create function called `Grade_Converter`.\n",
    "2. This function takes input: `convert_to` and n-paired of student(s) name with its respective score.\n",
    "3. Input argument for `convert_to` is either `letter_grade` or `gpa`.\n",
    "4. You can utilize **kwargs input argument to generate n-length paired of student(s) name with its respective score (Dictionary).\n",
    "5. This function will return dictionary of student’s name along with converted Letter Grade or GPA, depending on user input in `convert_to` parameter.\n",
    "\n",
    "| Score | Letter Grade | GPA 4.0 Scale |\n",
    "| ----------- | ----------- | ----------- |\n",
    "| 85 - 100 | A | 4 |\n",
    "| 70 - 84,99 | B | 3 |\n",
    "| 60 - 69,99 | C | 2.5 |\n",
    "| 50 - 59,99 | D | 2 |\n",
    "| 40 - 49,99 | E | 1.5 |\n",
    "| 0 - 39,99 | F | 1 |\n",
    "\n",
    "\n"
   ]
  },
  {
   "cell_type": "code",
   "execution_count": 38,
   "metadata": {},
   "outputs": [
    {
     "name": "stdout",
     "output_type": "stream",
     "text": [
      "dictGrade = {'Ando': 'C', 'Budi': 'A', 'Choky': 'D'}\n"
     ]
    }
   ],
   "source": [
    "def gradeConverter(convert_to, **studentDatas):\n",
    "    \n",
    "    dictGrade = {}\n",
    "\n",
    "    # Looping through studentDatas items\n",
    "    for name, score in studentDatas.items():\n",
    "        # if convert to letter grade\n",
    "        if convert_to == \"letter_grade\":\n",
    "            if score >= 85 and score <= 100:\n",
    "                dictGrade[name] = \"A\"\n",
    "            elif score >= 70 and score <= 84.99:\n",
    "                dictGrade[name] = \"B\"\n",
    "            elif score >= 60 and score <= 69.99:\n",
    "                dictGrade[name] = \"C\"\n",
    "            elif score >= 50 and score <= 59.99:\n",
    "                dictGrade[name] = \"D\"\n",
    "            elif score >= 40 and score <= 49.99:\n",
    "                dictGrade[name] = \"E\"\n",
    "            elif score >= 0 and score <= 39.99:\n",
    "                dictGrade[name] = \"F\"\n",
    "\n",
    "        # if convert to letter grade\n",
    "        elif convert_to == \"gpa\":\n",
    "            if score >= 85 and score <= 100:\n",
    "                dictGrade[name] = 4\n",
    "            elif score >= 70 and score <= 84.99:\n",
    "                dictGrade[name] = 3\n",
    "            elif score >= 60 and score <= 69.99:\n",
    "                dictGrade[name] = 2.5\n",
    "            elif score >= 50 and score <= 59.99:\n",
    "                dictGrade[name] = 2\n",
    "            elif score >= 40 and score <= 49.99:\n",
    "                dictGrade[name] = 1.5\n",
    "            elif score >= 0 and score <= 39.99:\n",
    "                dictGrade[name] = 1\n",
    "        \n",
    "    return dictGrade\n",
    "        \n",
    "convertTo = input(\"Convert to? [gpa/letter_grade]\")\n",
    "totalStudent = int(input(\"Number of Students: \"))\n",
    "\n",
    "dictStudent = {}\n",
    "\n",
    "for i in range(0, totalStudent):\n",
    "    name = input(\"Input student name: \")\n",
    "    score = float(input(f\"Input {name}'s score: \"))\n",
    "\n",
    "    dictStudent[name] = score\n",
    "\n",
    "dictGrade = gradeConverter(convertTo, **dictStudent)\n",
    "print(f\"dictGrade = {dictGrade}\")"
   ]
  },
  {
   "attachments": {},
   "cell_type": "markdown",
   "metadata": {},
   "source": [
    "*How to create dynamic input for kwargs"
   ]
  },
  {
   "cell_type": "code",
   "execution_count": 35,
   "metadata": {},
   "outputs": [
    {
     "name": "stdout",
     "output_type": "stream",
     "text": [
      "{'name': 'john'}\n"
     ]
    }
   ],
   "source": [
    "def func(**kwargs):\n",
    "    print(kwargs)\n",
    "\n",
    "dict = {\n",
    "    \"name\": 'john'\n",
    "}\n",
    "\n",
    "func(**dict)"
   ]
  },
  {
   "attachments": {},
   "cell_type": "markdown",
   "metadata": {},
   "source": [
    "## Task#4 - Fibonacci\n",
    "---\n",
    "Create a function that will return the value of n-th fibonacci number.\n",
    "\n",
    "**Instruction:**\n",
    "1. The function will take 1 input parameter, n, represents the asked number from our fibonacci sequence index.\n",
    "2. The fibonacci sequence will start with the value of 0 and 1.\n",
    "3. This function will return the n-th value from fibonacci sequence.\n",
    "\n",
    "__Example__:  \n",
    "a. Input: my_function(n=0)  \n",
    "b. Output: 0  \n",
    "\\\n",
    "a. Input: my_function(n=4)  \n",
    "b. Output: 3  \n",
    "\\\n",
    "a. Input: my_function(n=10)  \n",
    "b. Output: 55\n"
   ]
  },
  {
   "cell_type": "code",
   "execution_count": 57,
   "metadata": {},
   "outputs": [
    {
     "name": "stdout",
     "output_type": "stream",
     "text": [
      "Fibonacci sequence value at 14 is 377 using Fibonacci Manual Function\n",
      "Fibonacci sequence value at 14 is 377 using Fibonacci Recursive Function\n"
     ]
    }
   ],
   "source": [
    "# Fibonacci Sequence\n",
    "# Un = U(n-1) + U(n-2)\n",
    "\n",
    "def fibonacciManual(n):\n",
    "    resN_1 = 1\n",
    "    resN_2 = 1\n",
    "\n",
    "    if n == 0: # base case\n",
    "        return 0\n",
    "    elif n == 1 or n == 2: # base case\n",
    "        return 1\n",
    "    else:\n",
    "        resTemp = 0\n",
    "        while n >= 3:\n",
    "            resTemp = resN_2 # storing old resN_2 values temporarily for arithmetic operation\n",
    "            resN_2 = resN_1 # storing old resN_1 as the new resN_2 value\n",
    "            resN_1 = resTemp + resN_2 # adding new values to resN_1\n",
    "\n",
    "            n -= 1 # loop break\n",
    "\n",
    "        return resN_1\n",
    "    \n",
    "def fibonacciRecursive(n):\n",
    "    if n == 0: # base case\n",
    "        return 0\n",
    "    elif n == 1 or n == 2: # base case\n",
    "        return 1\n",
    "    else:\n",
    "        return fibonacciRecursive(n-1) + fibonacciRecursive(n-2) # recursively calling self\n",
    "\n",
    "n = int(input(\"Input n: \"))    \n",
    "resManual = fibonacciManual(n)\n",
    "resRecursive = fibonacciRecursive(n)\n",
    "print(f\"Fibonacci sequence value at {n} is {resManual} using Fibonacci Manual Function\")\n",
    "print(f\"Fibonacci sequence value at {n} is {resRecursive} using Fibonacci Recursive Function\")"
   ]
  }
 ],
 "metadata": {
  "kernelspec": {
   "display_name": "base",
   "language": "python",
   "name": "python3"
  },
  "language_info": {
   "codemirror_mode": {
    "name": "ipython",
    "version": 3
   },
   "file_extension": ".py",
   "mimetype": "text/x-python",
   "name": "python",
   "nbconvert_exporter": "python",
   "pygments_lexer": "ipython3",
   "version": "3.11.5"
  },
  "orig_nbformat": 4
 },
 "nbformat": 4,
 "nbformat_minor": 2
}
