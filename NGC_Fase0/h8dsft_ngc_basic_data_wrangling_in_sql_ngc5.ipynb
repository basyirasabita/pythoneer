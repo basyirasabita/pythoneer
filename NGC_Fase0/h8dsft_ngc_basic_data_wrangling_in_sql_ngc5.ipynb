{
 "cells": [
  {
   "cell_type": "markdown",
   "metadata": {},
   "source": [
    "# NGC5 - DDL & DML\n",
    "Nama: Basyira Sabita  \n",
    "Batch: HCK-12"
   ]
  },
  {
   "cell_type": "markdown",
   "metadata": {},
   "source": [
    "### Membuat tabel Customers dan Orders"
   ]
  },
  {
   "cell_type": "markdown",
   "metadata": {},
   "source": [
    "```sql\n",
    "CREATE TABLE IF NOT EXISTS Customers (\n",
    "\tcustomer_id SERIAL PRIMARY KEY,\n",
    "\tcustomer_name VARCHAR(50) NOT NULL,\n",
    "\tcity VARCHAR(50) NOT NULL\n",
    ");\n",
    "\n",
    "CREATE TABLE IF NOT EXISTS Orders (\n",
    "\torder_id SERIAL PRIMARY KEY,\n",
    "\tcustomer_id INT,\n",
    "\torder_date DATE NOT NULL,\n",
    "\ttotal_amount DECIMAL NOT NULL,\n",
    "\tFOREIGN KEY (customer_id)\n",
    "\t\tREFERENCES Customers (customer_id)\n",
    ");\n",
    "```"
   ]
  },
  {
   "cell_type": "markdown",
   "metadata": {},
   "source": [
    "### Memasukkan data ke tabel Customers dan Orders"
   ]
  },
  {
   "cell_type": "markdown",
   "metadata": {},
   "source": [
    "```sql\n",
    "INSERT INTO Customers(customer_name, city)\n",
    "VALUES \n",
    "\t('John Doe', 'New York'),\n",
    "\t('Jane Smith', 'Los Angeles'),\n",
    "\t('David Johnson', 'Chicago');\n",
    "\t\n",
    "INSERT INTO Orders(customer_id, order_date, total_amount)\n",
    "VALUES\n",
    "\t(1, '2022-01-10', 100.00),\n",
    "\t(1, '2022-02-15', 150.00),\n",
    "\t(2, '2022-03-20', 200.00),\n",
    "\t(3, '2022-04-25', 50.00);\n",
    "```"
   ]
  },
  {
   "cell_type": "markdown",
   "metadata": {},
   "source": [
    "### Menampilkan data customer name dan jumlah pesanannya"
   ]
  },
  {
   "cell_type": "markdown",
   "metadata": {},
   "source": [
    "```sql\n",
    "SELECT cust.customer_name, count(*) as total_orders\n",
    "FROM customers AS cust \n",
    "JOIN orders as ord\n",
    "ON cust.customer_id = ord.customer_id\n",
    "GROUP BY cust.customer_id\n",
    "ORDER BY total_orders DESC;\n",
    "```"
   ]
  }
 ],
 "metadata": {
  "language_info": {
   "name": "python"
  }
 },
 "nbformat": 4,
 "nbformat_minor": 2
}
